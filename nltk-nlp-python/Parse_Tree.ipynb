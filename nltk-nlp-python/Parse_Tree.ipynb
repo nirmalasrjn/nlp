{
 "cells": [
  {
   "cell_type": "code",
   "execution_count": 1,
   "id": "d38c87e4-940d-4e54-817c-504f7df4bb78",
   "metadata": {},
   "outputs": [],
   "source": [
    "import nltk\n",
    "from nltk.tree import Tree"
   ]
  },
  {
   "cell_type": "code",
   "execution_count": 2,
   "id": "c425b3c1-a47a-478a-b411-558cf648a380",
   "metadata": {},
   "outputs": [],
   "source": [
    "# Define the parse trees\n",
    "spanish_sentence = \"A ella puedes contárselo todo.\"\n",
    "english_sentence = \"You can tell her everything.\""
   ]
  },
  {
   "cell_type": "code",
   "execution_count": 3,
   "id": "1eb6e068-ff27-4348-8679-3decc2a2aa32",
   "metadata": {},
   "outputs": [],
   "source": [
    " #Define Spanish parse tree\n",
    "spanish_parse_tree = Tree.fromstring(\"\"\"\n",
    "(S\n",
    "  (PP (P A) (PRON ella))\n",
    "  (VP (AUX puedes)\n",
    "    (VP (V contárselo)\n",
    "      (NP todo))))\n",
    "\"\"\")"
   ]
  },
  {
   "cell_type": "code",
   "execution_count": 4,
   "id": "7dd6b66c-a24d-4af2-acb6-21e515d57627",
   "metadata": {},
   "outputs": [],
   "source": [
    "# Define English parse tree\n",
    "english_parse_tree = Tree.fromstring(\"\"\"\n",
    "(S\n",
    "  (NP You)\n",
    "  (VP\n",
    "    (AUX can)\n",
    "    (VP (V tell)\n",
    "      (NP (NN everything))\n",
    "      (NP (PRP her)))))\n",
    "\"\"\")"
   ]
  },
  {
   "cell_type": "code",
   "execution_count": 5,
   "id": "14f7f016-68ee-4fbb-8df0-d4c13a1d0be9",
   "metadata": {},
   "outputs": [
    {
     "name": "stdout",
     "output_type": "stream",
     "text": [
      "Spanish Parse Tree:\n",
      "               S                       \n",
      "      _________|________                \n",
      "     |                  VP             \n",
      "     |          ________|_______        \n",
      "     PP        |                VP     \n",
      "  ___|___      |         _______|___    \n",
      " P      PRON  AUX       V           NP \n",
      " |       |     |        |           |   \n",
      " A      ella puedes contárselo     todo\n",
      "\n"
     ]
    }
   ],
   "source": [
    "# Display the parse trees\n",
    "print(\"Spanish Parse Tree:\")\n",
    "spanish_parse_tree.pretty_print()"
   ]
  },
  {
   "cell_type": "code",
   "execution_count": 6,
   "id": "2048c413-a541-4dc7-ada3-a8b4b439766e",
   "metadata": {},
   "outputs": [
    {
     "name": "stdout",
     "output_type": "stream",
     "text": [
      "\n",
      "English Parse Tree:\n",
      "         S                     \n",
      "  _______|____                  \n",
      " |            VP               \n",
      " |    ________|______           \n",
      " |   |               VP        \n",
      " |   |    ___________|_______   \n",
      " |   |   |           NP      NP\n",
      " |   |   |           |       |  \n",
      " NP AUX  V           NN     PRP\n",
      " |   |   |           |       |  \n",
      "You can tell     everything her\n",
      "\n"
     ]
    }
   ],
   "source": [
    "# Display English Parse Tree\n",
    "print(\"\\nEnglish Parse Tree:\")\n",
    "english_parse_tree.pretty_print()"
   ]
  },
  {
   "cell_type": "code",
   "execution_count": 7,
   "id": "d6bbea52-2f88-4ab7-ad8f-821be698e682",
   "metadata": {},
   "outputs": [],
   "source": [
    "def print_case_structure(agent, action, recipient, obj):\n",
    "    print(f\"Action: {action}\")\n",
    "    print(f\"  Agent: {agent}\")\n",
    "    print(f\"  Recipient: {recipient}\")\n",
    "    print(f\"  Object: {obj}\")"
   ]
  },
  {
   "cell_type": "code",
   "execution_count": 8,
   "id": "1616e08f-4292-43ad-8d2e-71e168c61e67",
   "metadata": {},
   "outputs": [
    {
     "name": "stdout",
     "output_type": "stream",
     "text": [
      "Case Structure for Spanish Sentence:\n",
      "Action: contar\n",
      "  Agent: tú (implicit)\n",
      "  Recipient: ella\n",
      "  Object: todo\n"
     ]
    }
   ],
   "source": [
    "print(\"Case Structure for Spanish Sentence:\")\n",
    "print_case_structure(\"tú (implicit)\", \"contar\", \"ella\", \"todo\")"
   ]
  },
  {
   "cell_type": "code",
   "execution_count": 9,
   "id": "828264aa-6da9-4da5-81c7-67c009150a9a",
   "metadata": {},
   "outputs": [
    {
     "name": "stdout",
     "output_type": "stream",
     "text": [
      "\n",
      "Case Structure for English Sentence:\n",
      "Action: tell\n",
      "  Agent: you\n",
      "  Recipient: her\n",
      "  Object: everything\n"
     ]
    }
   ],
   "source": [
    "print(\"\\nCase Structure for English Sentence:\")\n",
    "print_case_structure(\"you\", \"tell\", \"her\", \"everything\")"
   ]
  },
  {
   "cell_type": "code",
   "execution_count": null,
   "id": "517109fb-c50f-4567-a25b-dd327cdc12b3",
   "metadata": {},
   "outputs": [],
   "source": [
    " #Visualize the parse trees\n",
    "spanish_parse_tree.draw()\n",
    "english_parse_tree.draw()"
   ]
  }
 ],
 "metadata": {
  "kernelspec": {
   "display_name": "Python 3 (ipykernel)",
   "language": "python",
   "name": "python3"
  },
  "language_info": {
   "codemirror_mode": {
    "name": "ipython",
    "version": 3
   },
   "file_extension": ".py",
   "mimetype": "text/x-python",
   "name": "python",
   "nbconvert_exporter": "python",
   "pygments_lexer": "ipython3",
   "version": "3.9.19"
  }
 },
 "nbformat": 4,
 "nbformat_minor": 5
}
