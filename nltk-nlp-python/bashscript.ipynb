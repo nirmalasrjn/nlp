{
 "cells": [
  {
   "cell_type": "code",
   "execution_count": 1,
   "id": "04aa6466-41bf-44b7-9210-78172732d053",
   "metadata": {},
   "outputs": [
    {
     "name": "stdout",
     "output_type": "stream",
     "text": [
      "Requirement already satisfied: bash_kernel in ./lib/python3.9/site-packages (0.9.3)\n",
      "Requirement already satisfied: pexpect>=4.0 in ./lib/python3.9/site-packages (from bash_kernel) (4.9.0)\n",
      "Requirement already satisfied: ipykernel in ./lib/python3.9/site-packages (from bash_kernel) (6.29.5)\n",
      "Requirement already satisfied: ptyprocess>=0.5 in ./lib/python3.9/site-packages (from pexpect>=4.0->bash_kernel) (0.7.0)\n",
      "Requirement already satisfied: comm>=0.1.1 in ./lib/python3.9/site-packages (from ipykernel->bash_kernel) (0.2.2)\n",
      "Requirement already satisfied: debugpy>=1.6.5 in ./lib/python3.9/site-packages (from ipykernel->bash_kernel) (1.8.2)\n",
      "Requirement already satisfied: ipython>=7.23.1 in ./lib/python3.9/site-packages (from ipykernel->bash_kernel) (8.18.1)\n",
      "Requirement already satisfied: jupyter-client>=6.1.12 in ./lib/python3.9/site-packages (from ipykernel->bash_kernel) (8.6.2)\n",
      "Requirement already satisfied: jupyter-core!=5.0.*,>=4.12 in ./lib/python3.9/site-packages (from ipykernel->bash_kernel) (5.7.2)\n",
      "Requirement already satisfied: matplotlib-inline>=0.1 in ./lib/python3.9/site-packages (from ipykernel->bash_kernel) (0.1.7)\n",
      "Requirement already satisfied: nest-asyncio in ./lib/python3.9/site-packages (from ipykernel->bash_kernel) (1.6.0)\n",
      "Requirement already satisfied: packaging in ./lib/python3.9/site-packages (from ipykernel->bash_kernel) (24.1)\n",
      "Requirement already satisfied: psutil in ./lib/python3.9/site-packages (from ipykernel->bash_kernel) (6.0.0)\n",
      "Requirement already satisfied: pyzmq>=24 in ./lib/python3.9/site-packages (from ipykernel->bash_kernel) (26.0.3)\n",
      "Requirement already satisfied: tornado>=6.1 in ./lib/python3.9/site-packages (from ipykernel->bash_kernel) (6.4.1)\n",
      "Requirement already satisfied: traitlets>=5.4.0 in ./lib/python3.9/site-packages (from ipykernel->bash_kernel) (5.14.3)\n",
      "Requirement already satisfied: decorator in ./lib/python3.9/site-packages (from ipython>=7.23.1->ipykernel->bash_kernel) (5.1.1)\n",
      "Requirement already satisfied: jedi>=0.16 in ./lib/python3.9/site-packages (from ipython>=7.23.1->ipykernel->bash_kernel) (0.19.1)\n",
      "Requirement already satisfied: prompt-toolkit<3.1.0,>=3.0.41 in ./lib/python3.9/site-packages (from ipython>=7.23.1->ipykernel->bash_kernel) (3.0.47)\n",
      "Requirement already satisfied: pygments>=2.4.0 in ./lib/python3.9/site-packages (from ipython>=7.23.1->ipykernel->bash_kernel) (2.18.0)\n",
      "Requirement already satisfied: stack-data in ./lib/python3.9/site-packages (from ipython>=7.23.1->ipykernel->bash_kernel) (0.6.3)\n",
      "Requirement already satisfied: typing-extensions in ./lib/python3.9/site-packages (from ipython>=7.23.1->ipykernel->bash_kernel) (4.12.2)\n",
      "Requirement already satisfied: exceptiongroup in ./lib/python3.9/site-packages (from ipython>=7.23.1->ipykernel->bash_kernel) (1.2.1)\n",
      "Requirement already satisfied: importlib-metadata>=4.8.3 in ./lib/python3.9/site-packages (from jupyter-client>=6.1.12->ipykernel->bash_kernel) (8.0.0)\n",
      "Requirement already satisfied: python-dateutil>=2.8.2 in ./lib/python3.9/site-packages (from jupyter-client>=6.1.12->ipykernel->bash_kernel) (2.9.0.post0)\n",
      "Requirement already satisfied: platformdirs>=2.5 in ./lib/python3.9/site-packages (from jupyter-core!=5.0.*,>=4.12->ipykernel->bash_kernel) (4.2.2)\n",
      "Requirement already satisfied: zipp>=0.5 in ./lib/python3.9/site-packages (from importlib-metadata>=4.8.3->jupyter-client>=6.1.12->ipykernel->bash_kernel) (3.19.2)\n",
      "Requirement already satisfied: parso<0.9.0,>=0.8.3 in ./lib/python3.9/site-packages (from jedi>=0.16->ipython>=7.23.1->ipykernel->bash_kernel) (0.8.4)\n",
      "Requirement already satisfied: wcwidth in ./lib/python3.9/site-packages (from prompt-toolkit<3.1.0,>=3.0.41->ipython>=7.23.1->ipykernel->bash_kernel) (0.2.13)\n",
      "Requirement already satisfied: six>=1.5 in ./lib/python3.9/site-packages (from python-dateutil>=2.8.2->jupyter-client>=6.1.12->ipykernel->bash_kernel) (1.16.0)\n",
      "Requirement already satisfied: executing>=1.2.0 in ./lib/python3.9/site-packages (from stack-data->ipython>=7.23.1->ipykernel->bash_kernel) (2.0.1)\n",
      "Requirement already satisfied: asttokens>=2.1.0 in ./lib/python3.9/site-packages (from stack-data->ipython>=7.23.1->ipykernel->bash_kernel) (2.4.1)\n",
      "Requirement already satisfied: pure-eval in ./lib/python3.9/site-packages (from stack-data->ipython>=7.23.1->ipykernel->bash_kernel) (0.2.2)\n"
     ]
    }
   ],
   "source": [
    "\n",
    "! pip install bash_kernel"
   ]
  },
  {
   "cell_type": "code",
   "execution_count": 2,
   "id": "db73d2b4-a866-4aef-b341-e56271d430fd",
   "metadata": {},
   "outputs": [
    {
     "name": "stdout",
     "output_type": "stream",
     "text": [
      "KBR said Friday the global economic downturn so far has\n",
      "had\n",
      "little effect on its business but warned some projects on its books\n",
      "could be in jeopardy if the headwinds persist into next year.\n",
      "\n",
      "\"With the economic outlook remaining uncertain, it is possible\n",
      "that\n",
      "customers may cancel or delay projects that are under way,\" said\n",
      "William\n",
      "Utt, chief executive of the Houston-based engineering and\n"
     ]
    }
   ],
   "source": [
    "# \n",
    "inputfile=\"Nyt.200811.txt\"\n",
    "!head -n 10 $inputfile"
   ]
  },
  {
   "cell_type": "code",
   "execution_count": 3,
   "id": "5cf77fa7-d782-4908-8dbf-9e7cd9ee2b64",
   "metadata": {},
   "outputs": [
    {
     "name": "stdout",
     "output_type": "stream",
     "text": [
      "kbr\n",
      "said\n",
      "friday\n",
      "the\n",
      "global\n",
      "economic\n",
      "downturn\n",
      "so\n",
      "far\n",
      "has\n"
     ]
    }
   ],
   "source": [
    "# Tokenize the input file by splitting on non-alphanumeric characters and converts it into a list of words,one per line\n",
    "!tr -cs '[:alnum:]' '[\\n*]' < \"$inputfile\" | tr '[:upper:]' '[:lower:]' > words.txt\n",
    "!head -n 10 words.txt"
   ]
  },
  {
   "cell_type": "code",
   "execution_count": 4,
   "id": "04709c04-ed87-455f-8020-4a6d1ce7ec6c",
   "metadata": {},
   "outputs": [
    {
     "name": "stdout",
     "output_type": "stream",
     "text": [
      "said\n",
      "friday\n",
      "the\n",
      "global\n",
      "economic\n",
      "downturn\n",
      "so\n",
      "far\n",
      "has\n",
      "had\n"
     ]
    }
   ],
   "source": [
    "# Create two almost-duplicate files; this command creates shiftedwords.txt by removing the first line of words.txt\n",
    "!tail -n +2 words.txt > shiftedwords.txt\n",
    "!head -n 10 shiftedwords.txt"
   ]
  },
  {
   "cell_type": "code",
   "execution_count": 5,
   "id": "9dea7120-e3e7-44a9-a60b-9944b549eb3b",
   "metadata": {},
   "outputs": [
    {
     "name": "stdout",
     "output_type": "stream",
     "text": [
      "kbr\tsaid\n",
      "said\tfriday\n",
      "friday\tthe\n",
      "the\tglobal\n",
      "global\teconomic\n",
      "economic\tdownturn\n",
      "downturn\tso\n",
      "so\tfar\n",
      "far\thas\n",
      "has\thad\n"
     ]
    }
   ],
   "source": [
    "# paste the two files together to get word(i) and (word(i+1)) on the same line \n",
    "!paste words.txt shiftedwords.txt > bigrams.txt\n",
    "!head -n 10 bigrams.txt"
   ]
  },
  {
   "cell_type": "code",
   "execution_count": 6,
   "id": "af3670e2-da82-4b95-8322-51d807e7bdea",
   "metadata": {},
   "outputs": [
    {
     "name": "stdout",
     "output_type": "stream",
     "text": [
      "      1 000\t2\n",
      "      1 000\t20\n",
      "      1 000\t727\n",
      "      1 000\t750\n",
      "      1 000\t775\n",
      "      1 000\t850\n",
      "     19 000\ta\n",
      "      1 000\tabandoned\n",
      "      2 000\taccording\n",
      "      1 000\tadults\n"
     ]
    }
   ],
   "source": [
    " #Sort the bigrams and count the unique occurences\n",
    "!sort bigrams.txt | uniq -c  > sortedbigrams.txt\n",
    "!head -n 10 sortedbigrams.txt"
   ]
  },
  {
   "cell_type": "code",
   "execution_count": 7,
   "id": "65af819f-b7ec-41a5-9416-b80ed69cec05",
   "metadata": {},
   "outputs": [],
   "source": [
    "#sort the bigrams in descending order \n",
    "!sort -nr sortedbigrams.txt > finalbigrams.txt"
   ]
  },
  {
   "cell_type": "code",
   "execution_count": 8,
   "id": "6817efdd-5932-4774-8f35-510940b087dc",
   "metadata": {},
   "outputs": [
    {
     "name": "stdout",
     "output_type": "stream",
     "text": [
      "   3154 of\tthe\n",
      "   2758 in\tthe\n",
      "   1196 to\tthe\n",
      "   1159 on\tthe\n",
      "    942 for\tthe\n",
      "    859 and\tthe\n",
      "    846 in\ta\n",
      "    776 it\ts\n",
      "    773 at\tthe\n",
      "    743 to\tbe\n"
     ]
    }
   ],
   "source": [
    "# Display the 10 most common bigrams\n",
    "!head -n 10 finalbigrams.txt"
   ]
  }
 ],
 "metadata": {
  "kernelspec": {
   "display_name": "Python 3 (ipykernel)",
   "language": "python",
   "name": "python3"
  },
  "language_info": {
   "codemirror_mode": {
    "name": "ipython",
    "version": 3
   },
   "file_extension": ".py",
   "mimetype": "text/x-python",
   "name": "python",
   "nbconvert_exporter": "python",
   "pygments_lexer": "ipython3",
   "version": "3.9.19"
  }
 },
 "nbformat": 4,
 "nbformat_minor": 5
}
