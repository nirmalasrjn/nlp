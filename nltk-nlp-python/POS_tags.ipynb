{
 "cells": [
  {
   "cell_type": "code",
   "execution_count": 1,
   "id": "8943a164-de38-444c-b03e-0dcb636aada7",
   "metadata": {},
   "outputs": [
    {
     "name": "stdout",
     "output_type": "stream",
     "text": [
      "Requirement already satisfied: spacy in ./lib/python3.9/site-packages (3.7.5)\n",
      "Requirement already satisfied: spacy-legacy<3.1.0,>=3.0.11 in ./lib/python3.9/site-packages (from spacy) (3.0.12)\n",
      "Requirement already satisfied: spacy-loggers<2.0.0,>=1.0.0 in ./lib/python3.9/site-packages (from spacy) (1.0.5)\n",
      "Requirement already satisfied: murmurhash<1.1.0,>=0.28.0 in ./lib/python3.9/site-packages (from spacy) (1.0.10)\n",
      "Requirement already satisfied: cymem<2.1.0,>=2.0.2 in ./lib/python3.9/site-packages (from spacy) (2.0.8)\n",
      "Requirement already satisfied: preshed<3.1.0,>=3.0.2 in ./lib/python3.9/site-packages (from spacy) (3.0.9)\n",
      "Requirement already satisfied: thinc<8.3.0,>=8.2.2 in ./lib/python3.9/site-packages (from spacy) (8.2.5)\n",
      "Requirement already satisfied: wasabi<1.2.0,>=0.9.1 in ./lib/python3.9/site-packages (from spacy) (1.1.3)\n",
      "Requirement already satisfied: srsly<3.0.0,>=2.4.3 in ./lib/python3.9/site-packages (from spacy) (2.4.8)\n",
      "Requirement already satisfied: catalogue<2.1.0,>=2.0.6 in ./lib/python3.9/site-packages (from spacy) (2.0.10)\n",
      "Requirement already satisfied: weasel<0.5.0,>=0.1.0 in ./lib/python3.9/site-packages (from spacy) (0.4.1)\n",
      "Requirement already satisfied: typer<1.0.0,>=0.3.0 in ./lib/python3.9/site-packages (from spacy) (0.12.3)\n",
      "Requirement already satisfied: tqdm<5.0.0,>=4.38.0 in ./lib/python3.9/site-packages (from spacy) (4.66.4)\n",
      "Requirement already satisfied: requests<3.0.0,>=2.13.0 in ./lib/python3.9/site-packages (from spacy) (2.32.3)\n",
      "Requirement already satisfied: pydantic!=1.8,!=1.8.1,<3.0.0,>=1.7.4 in ./lib/python3.9/site-packages (from spacy) (2.8.2)\n",
      "Requirement already satisfied: jinja2 in ./lib/python3.9/site-packages (from spacy) (3.1.4)\n",
      "Requirement already satisfied: setuptools in ./lib/python3.9/site-packages (from spacy) (58.1.0)\n",
      "Requirement already satisfied: packaging>=20.0 in ./lib/python3.9/site-packages (from spacy) (24.1)\n",
      "Requirement already satisfied: langcodes<4.0.0,>=3.2.0 in ./lib/python3.9/site-packages (from spacy) (3.4.0)\n",
      "Requirement already satisfied: numpy>=1.19.0 in ./lib/python3.9/site-packages (from spacy) (1.26.4)\n",
      "Requirement already satisfied: language-data>=1.2 in ./lib/python3.9/site-packages (from langcodes<4.0.0,>=3.2.0->spacy) (1.2.0)\n",
      "Requirement already satisfied: annotated-types>=0.4.0 in ./lib/python3.9/site-packages (from pydantic!=1.8,!=1.8.1,<3.0.0,>=1.7.4->spacy) (0.7.0)\n",
      "Requirement already satisfied: pydantic-core==2.20.1 in ./lib/python3.9/site-packages (from pydantic!=1.8,!=1.8.1,<3.0.0,>=1.7.4->spacy) (2.20.1)\n",
      "Requirement already satisfied: typing-extensions>=4.6.1 in ./lib/python3.9/site-packages (from pydantic!=1.8,!=1.8.1,<3.0.0,>=1.7.4->spacy) (4.12.2)\n",
      "Requirement already satisfied: charset-normalizer<4,>=2 in ./lib/python3.9/site-packages (from requests<3.0.0,>=2.13.0->spacy) (3.3.2)\n",
      "Requirement already satisfied: idna<4,>=2.5 in ./lib/python3.9/site-packages (from requests<3.0.0,>=2.13.0->spacy) (3.7)\n",
      "Requirement already satisfied: urllib3<3,>=1.21.1 in ./lib/python3.9/site-packages (from requests<3.0.0,>=2.13.0->spacy) (2.2.2)\n",
      "Requirement already satisfied: certifi>=2017.4.17 in ./lib/python3.9/site-packages (from requests<3.0.0,>=2.13.0->spacy) (2024.7.4)\n",
      "Requirement already satisfied: blis<0.8.0,>=0.7.8 in ./lib/python3.9/site-packages (from thinc<8.3.0,>=8.2.2->spacy) (0.7.11)\n",
      "Requirement already satisfied: confection<1.0.0,>=0.0.1 in ./lib/python3.9/site-packages (from thinc<8.3.0,>=8.2.2->spacy) (0.1.5)\n",
      "Requirement already satisfied: click>=8.0.0 in ./lib/python3.9/site-packages (from typer<1.0.0,>=0.3.0->spacy) (8.1.7)\n",
      "Requirement already satisfied: shellingham>=1.3.0 in ./lib/python3.9/site-packages (from typer<1.0.0,>=0.3.0->spacy) (1.5.4)\n",
      "Requirement already satisfied: rich>=10.11.0 in ./lib/python3.9/site-packages (from typer<1.0.0,>=0.3.0->spacy) (13.7.1)\n",
      "Requirement already satisfied: cloudpathlib<1.0.0,>=0.7.0 in ./lib/python3.9/site-packages (from weasel<0.5.0,>=0.1.0->spacy) (0.18.1)\n",
      "Requirement already satisfied: smart-open<8.0.0,>=5.2.1 in ./lib/python3.9/site-packages (from weasel<0.5.0,>=0.1.0->spacy) (7.0.4)\n",
      "Requirement already satisfied: MarkupSafe>=2.0 in ./lib/python3.9/site-packages (from jinja2->spacy) (2.1.5)\n",
      "Requirement already satisfied: marisa-trie>=0.7.7 in ./lib/python3.9/site-packages (from language-data>=1.2->langcodes<4.0.0,>=3.2.0->spacy) (1.2.0)\n",
      "Requirement already satisfied: markdown-it-py>=2.2.0 in ./lib/python3.9/site-packages (from rich>=10.11.0->typer<1.0.0,>=0.3.0->spacy) (3.0.0)\n",
      "Requirement already satisfied: pygments<3.0.0,>=2.13.0 in ./lib/python3.9/site-packages (from rich>=10.11.0->typer<1.0.0,>=0.3.0->spacy) (2.18.0)\n",
      "Requirement already satisfied: wrapt in ./lib/python3.9/site-packages (from smart-open<8.0.0,>=5.2.1->weasel<0.5.0,>=0.1.0->spacy) (1.16.0)\n",
      "Requirement already satisfied: mdurl~=0.1 in ./lib/python3.9/site-packages (from markdown-it-py>=2.2.0->rich>=10.11.0->typer<1.0.0,>=0.3.0->spacy) (0.1.2)\n"
     ]
    }
   ],
   "source": [
    "!pip install spacy"
   ]
  },
  {
   "cell_type": "code",
   "execution_count": 2,
   "id": "5e15e724-2a06-4598-b14f-8edf293cfdab",
   "metadata": {},
   "outputs": [],
   "source": [
    "import spacy\n",
    "# Load the spaCy model\n",
    "nlp = spacy.load(\"en_core_web_sm\")"
   ]
  },
  {
   "cell_type": "code",
   "execution_count": 3,
   "id": "5bf25238-da54-4b11-817e-49febb26b08b",
   "metadata": {},
   "outputs": [],
   "source": [
    "# Original sentence\n",
    "sentence1 = \"Ontology is the successor of metaphysics which is a branch of philosophy.\""
   ]
  },
  {
   "cell_type": "code",
   "execution_count": 4,
   "id": "24a15f44-2268-4999-a98c-75e5bcbfeea8",
   "metadata": {},
   "outputs": [],
   "source": [
    "# Process the original sentence1\n",
    "doc1 = nlp(sentence1)"
   ]
  },
  {
   "cell_type": "code",
   "execution_count": 5,
   "id": "9056026d-a78f-4517-8ed7-70be88e6ef07",
   "metadata": {},
   "outputs": [
    {
     "name": "stdout",
     "output_type": "stream",
     "text": [
      "Original sentence1 POS tags:\n",
      "Ontology: NOUN\n",
      "is: AUX\n",
      "the: DET\n",
      "successor: NOUN\n",
      "of: ADP\n",
      "metaphysics: NOUN\n",
      "which: PRON\n",
      "is: AUX\n",
      "a: DET\n",
      "branch: NOUN\n",
      "of: ADP\n",
      "philosophy: NOUN\n",
      ".: PUNCT\n"
     ]
    }
   ],
   "source": [
    "# Output part of speech tags for the original sentence1\n",
    "print(\"Original sentence1 POS tags:\")\n",
    "for token in doc1:\n",
    "    print(f\"{token.text}: {token.pos_}\")"
   ]
  },
  {
   "cell_type": "code",
   "execution_count": 6,
   "id": "6a2a7c51-bee0-47ff-9516-62c4ceeda46d",
   "metadata": {},
   "outputs": [],
   "source": [
    "# Introduce spelling errors\n",
    "sentence1_with_errors = \"Onology is the sucesor of metaphysic which is a branch of philosoph.\""
   ]
  },
  {
   "cell_type": "code",
   "execution_count": 7,
   "id": "ddd534d6-8214-497b-9cc0-de409dc0ec5f",
   "metadata": {},
   "outputs": [],
   "source": [
    "# Process the sentence with spelling errors\n",
    "doc1_with_errors = nlp(sentence1_with_errors)\n"
   ]
  },
  {
   "cell_type": "code",
   "execution_count": 8,
   "id": "dd116b65-330c-4453-bac5-50389ad780f9",
   "metadata": {},
   "outputs": [
    {
     "name": "stdout",
     "output_type": "stream",
     "text": [
      "\n",
      "Sentence1 with spelling errors POS tags:\n",
      "Onology: NOUN\n",
      "is: AUX\n",
      "the: DET\n",
      "sucesor: NOUN\n",
      "of: ADP\n",
      "metaphysic: NOUN\n",
      "which: PRON\n",
      "is: AUX\n",
      "a: DET\n",
      "branch: NOUN\n",
      "of: ADP\n",
      "philosoph: PROPN\n",
      ".: PUNCT\n"
     ]
    }
   ],
   "source": [
    "# Output part of speech tags for the sentence1 with spelling errors\n",
    "print(\"\\nSentence1 with spelling errors POS tags:\")\n",
    "for token in doc1_with_errors:\n",
    "    print(f\"{token.text}: {token.pos_}\")"
   ]
  },
  {
   "cell_type": "code",
   "execution_count": 9,
   "id": "1b73a180-aa36-46a2-a040-8e708b759b85",
   "metadata": {},
   "outputs": [],
   "source": [
    "# Original sentence2\n",
    "sentence2 = \"Machine learning technologies along with computation in virtual environment are emerging in present days.\""
   ]
  },
  {
   "cell_type": "code",
   "execution_count": 10,
   "id": "ebd891e3-f467-4472-82ca-de2d38ca7648",
   "metadata": {},
   "outputs": [],
   "source": [
    "# Process the original sentence2\n",
    "doc2 = nlp(sentence2)"
   ]
  },
  {
   "cell_type": "code",
   "execution_count": 11,
   "id": "ca9b99c2-b53f-40bf-a478-c82dd4117850",
   "metadata": {},
   "outputs": [
    {
     "name": "stdout",
     "output_type": "stream",
     "text": [
      "Original sentence2 POS tags:\n",
      "Machine: NOUN\n",
      "learning: VERB\n",
      "technologies: NOUN\n",
      "along: ADP\n",
      "with: ADP\n",
      "computation: NOUN\n",
      "in: ADP\n",
      "virtual: ADJ\n",
      "environment: NOUN\n",
      "are: AUX\n",
      "emerging: VERB\n",
      "in: ADP\n",
      "present: ADJ\n",
      "days: NOUN\n",
      ".: PUNCT\n"
     ]
    }
   ],
   "source": [
    "# Output part of speech tags for the original sentence2\n",
    "print(\"Original sentence2 POS tags:\")\n",
    "for token in doc2:\n",
    "    print(f\"{token.text}: {token.pos_}\")"
   ]
  },
  {
   "cell_type": "code",
   "execution_count": 12,
   "id": "8c5166ba-4f97-45c2-b3e9-8290edb06cc7",
   "metadata": {},
   "outputs": [],
   "source": [
    "# Introduce spelling errors\n",
    "sentence2_with_errors = \"Machin learnig technology along with computations in virtual environments are emerging in present day\""
   ]
  },
  {
   "cell_type": "code",
   "execution_count": 13,
   "id": "8bd0983a-c927-403a-83cd-e572d32cf41c",
   "metadata": {},
   "outputs": [],
   "source": [
    "# Process the sentence with spelling errors\n",
    "doc2_with_errors = nlp(sentence2_with_errors)"
   ]
  },
  {
   "cell_type": "code",
   "execution_count": 14,
   "id": "a586aa4a-91bc-48e8-9cf2-75c0e685f82b",
   "metadata": {},
   "outputs": [
    {
     "name": "stdout",
     "output_type": "stream",
     "text": [
      "\n",
      "Sentence2 with spelling errors POS tags:\n",
      "Machin: VERB\n",
      "learnig: ADJ\n",
      "technology: NOUN\n",
      "along: ADP\n",
      "with: ADP\n",
      "computations: NOUN\n",
      "in: ADP\n",
      "virtual: ADJ\n",
      "environments: NOUN\n",
      "are: AUX\n",
      "emerging: VERB\n",
      "in: ADP\n",
      "present: ADJ\n",
      "day: NOUN\n"
     ]
    }
   ],
   "source": [
    "# Output part of speech tags for the sentence2 with spelling errors\n",
    "print(\"\\nSentence2 with spelling errors POS tags:\")\n",
    "for token in doc2_with_errors:\n",
    "    print(f\"{token.text}: {token.pos_}\")"
   ]
  }
 ],
 "metadata": {
  "kernelspec": {
   "display_name": "Python 3 (ipykernel)",
   "language": "python",
   "name": "python3"
  },
  "language_info": {
   "codemirror_mode": {
    "name": "ipython",
    "version": 3
   },
   "file_extension": ".py",
   "mimetype": "text/x-python",
   "name": "python",
   "nbconvert_exporter": "python",
   "pygments_lexer": "ipython3",
   "version": "3.9.19"
  }
 },
 "nbformat": 4,
 "nbformat_minor": 5
}
