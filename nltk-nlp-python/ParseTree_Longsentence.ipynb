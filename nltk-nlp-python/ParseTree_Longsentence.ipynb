{
 "cells": [
  {
   "cell_type": "code",
   "execution_count": 1,
   "id": "ca423898-18a1-4e1a-a8cb-ef62290b7fa3",
   "metadata": {},
   "outputs": [],
   "source": [
    "import nltk\n",
    "from nltk.tree import Tree"
   ]
  },
  {
   "cell_type": "code",
   "execution_count": 2,
   "id": "d8a994d8-357c-4d20-8bfb-3c9457a096f5",
   "metadata": {},
   "outputs": [],
   "source": [
    "# Spanish sentence parse tree\n",
    "spanish_tree = Tree('S', [\n",
    "    Tree('AdvP', [Tree('Adv', ['Todavía'])]),\n",
    "    Tree('VP', [\n",
    "        Tree('V', ['recuerdo']),\n",
    "        Tree('NP', [\n",
    "            Tree('Det', ['aquel']),\n",
    "            Tree('N', ['amanecer'])\n",
    "        ]),\n",
    "        Tree('CP', [\n",
    "            Tree('C', ['en']),\n",
    "            Tree('S', [\n",
    "                Tree('NP', [\n",
    "                    Tree('Det', ['mi']),\n",
    "                    Tree('N', ['padre'])\n",
    "                ]),\n",
    "                Tree('VP', [\n",
    "                    Tree('V', ['me llevó']),\n",
    "                    Tree('PP', [\n",
    "                        Tree('P', ['por']),\n",
    "                        Tree('NP', [\n",
    "                            Tree('Det', ['primera']),\n",
    "                            Tree('N', ['vez'])\n",
    "                        ])\n",
    "                    ]),\n",
    "                    Tree('PP', [\n",
    "                        Tree('P', ['a']),\n",
    "                        Tree('VP', [\n",
    "                            Tree('V', ['visitar']),\n",
    "                            Tree('NP', [\n",
    "                                Tree('Det', ['el']),\n",
    "                                Tree('N', ['Cementerio de los Libros Olvidados'])\n",
    "                             ])\n",
    "                        ])\n",
    "                    ])\n",
    "                ])\n",
    "            ])\n",
    "        ])\n",
    "    ])\n",
    "])\n"
   ]
  },
  {
   "cell_type": "code",
   "execution_count": 3,
   "id": "5291c005-cc2d-41b1-be45-6064ec2461c5",
   "metadata": {},
   "outputs": [],
   "source": [
    "# English sentence parse tree\n",
    "english_tree = Tree('S', [\n",
    "    Tree('NP', [Tree('PRP', ['I'])]),\n",
    "    Tree('AdvP', [Tree('RB', ['still'])]),\n",
    "    Tree('VP', [\n",
    "        Tree('V', ['remember']),\n",
    "        Tree('NP', [\n",
    "            Tree('Det', ['the']),\n",
    "            Tree('N', ['day'])\n",
    "        ]),\n",
    "     Tree('CP', [\n",
    "            Tree('C', ['that']),\n",
    "            Tree('S', [\n",
    "                Tree('NP', [\n",
    "                    Tree('PRP$', ['my']),\n",
    "                    Tree('N', ['father'])\n",
    "                ]),\n",
    "                Tree('VP', [\n",
    "                    Tree('V', ['took']),\n",
    "                    Tree('NP', [Tree('PRP', ['me'])]),\n",
    "                    Tree('PP', [\n",
    "                        Tree('P', ['to']),\n",
    "                        Tree('NP', [\n",
    "                            Tree('Det', ['the']),\n",
    "                            Tree('N', ['Cemetery of Forgotten Books'])\n",
    "                        ])\n",
    "                    ]),\n",
    "                    Tree('PP', [\n",
    "                        Tree('P', ['for']),\n",
    "                        Tree('NP', [\n",
    "                            Tree('Det', ['the']),\n",
    "                            Tree('N', ['first time'])\n",
    "                        ])\n",
    "                    ])\n",
    "                ])\n",
    "            ])\n",
    "        ])\n",
    "    ])\n",
    "])\n"
   ]
  },
  {
   "cell_type": "code",
   "execution_count": null,
   "id": "9deda105-8a43-4cd3-aa41-74095b295883",
   "metadata": {},
   "outputs": [],
   "source": [
    "# Drawing the parse trees\n",
    "spanish_tree.draw()\n",
    "english_tree.draw()\n",
    "                      "
   ]
  }
 ],
 "metadata": {
  "kernelspec": {
   "display_name": "Python 3 (ipykernel)",
   "language": "python",
   "name": "python3"
  },
  "language_info": {
   "codemirror_mode": {
    "name": "ipython",
    "version": 3
   },
   "file_extension": ".py",
   "mimetype": "text/x-python",
   "name": "python",
   "nbconvert_exporter": "python",
   "pygments_lexer": "ipython3",
   "version": "3.9.19"
  }
 },
 "nbformat": 4,
 "nbformat_minor": 5
}
