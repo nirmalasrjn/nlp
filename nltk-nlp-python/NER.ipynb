{
 "cells": [
  {
   "cell_type": "code",
   "execution_count": 1,
   "id": "6ed26622-9199-4949-a5e8-3609c22ef4ff",
   "metadata": {},
   "outputs": [],
   "source": [
    "import nltk\n",
    "from transformers import AutoTokenizer, AutoModelForTokenClassification, pipeline"
   ]
  },
  {
   "cell_type": "code",
   "execution_count": 2,
   "id": "e93fac0b-cb45-480f-8786-396cf6c55fdc",
   "metadata": {},
   "outputs": [
    {
     "name": "stderr",
     "output_type": "stream",
     "text": [
      "Some weights of the model checkpoint at dbmdz/bert-large-cased-finetuned-conll03-english were not used when initializing BertForTokenClassification: ['bert.pooler.dense.bias', 'bert.pooler.dense.weight']\n",
      "- This IS expected if you are initializing BertForTokenClassification from the checkpoint of a model trained on another task or with another architecture (e.g. initializing a BertForSequenceClassification model from a BertForPreTraining model).\n",
      "- This IS NOT expected if you are initializing BertForTokenClassification from the checkpoint of a model that you expect to be exactly identical (initializing a BertForSequenceClassification model from a BertForSequenceClassification model).\n"
     ]
    }
   ],
   "source": [
    "model_name=\"dbmdz/bert-large-cased-finetuned-conll03-english\"\n",
    "tokenizer=AutoTokenizer.from_pretrained(model_name)\n",
    "model=AutoModelForTokenClassification.from_pretrained(model_name)\n"
   ]
  },
  {
   "cell_type": "code",
   "execution_count": 3,
   "id": "785cf9f0-ab14-48ea-b1a1-9e3ffb4ef29b",
   "metadata": {},
   "outputs": [],
   "source": [
    "ner_pipeline=pipeline(\"ner\", model=model, tokenizer=tokenizer,aggregation_strategy=\"simple\")"
   ]
  },
  {
   "cell_type": "code",
   "execution_count": 4,
   "id": "497b8700-f065-4fbf-9e1d-1571cdce170e",
   "metadata": {},
   "outputs": [],
   "source": [
    "titles=[\n",
    "        \"Pride and Prejudice\",\n",
    "        \"1984\",\n",
    "        \"Persuasion\",\n",
    "        \"Sense and Sensibility\"\n",
    "]\n"
   ]
  },
  {
   "cell_type": "code",
   "execution_count": 5,
   "id": "978ea144-fa66-496a-aadb-1fe44747785a",
   "metadata": {},
   "outputs": [
    {
     "name": "stdout",
     "output_type": "stream",
     "text": [
      "Title: Pride and Prejudice\n",
      "Entity: Pride and Prejudice, Label: MISC\n",
      "\n",
      "\n",
      "Title: 1984\n",
      "\n",
      "\n",
      "Title: Persuasion\n",
      "\n",
      "\n",
      "Title: Sense and Sensibility\n",
      "Entity: Sen, Label: MISC\n",
      "\n",
      "\n"
     ]
    }
   ],
   "source": [
    "for title in titles:\n",
    "    ner_results =ner_pipeline(title)\n",
    "    print(f\"Title: {title}\")\n",
    "    for entity in ner_results:\n",
    "        print(f\"Entity: {entity ['word']}, Label: {entity['entity_group']}\")\n",
    "    print(\"\\n\")"
   ]
  },
  {
   "cell_type": "code",
   "execution_count": null,
   "id": "83b217db-6940-4663-b875-7e48b556b6f0",
   "metadata": {},
   "outputs": [],
   "source": []
  }
 ],
 "metadata": {
  "kernelspec": {
   "display_name": "Python 3 (ipykernel)",
   "language": "python",
   "name": "python3"
  },
  "language_info": {
   "codemirror_mode": {
    "name": "ipython",
    "version": 3
   },
   "file_extension": ".py",
   "mimetype": "text/x-python",
   "name": "python",
   "nbconvert_exporter": "python",
   "pygments_lexer": "ipython3",
   "version": "3.9.19"
  }
 },
 "nbformat": 4,
 "nbformat_minor": 5
}
