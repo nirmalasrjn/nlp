{
 "cells": [
  {
   "cell_type": "code",
   "execution_count": null,
   "id": "561178bd-cfb1-4195-9443-3bca1462b3f5",
   "metadata": {},
   "outputs": [],
   "source": [
    "!pip install nltk"
   ]
  },
  {
   "cell_type": "code",
   "execution_count": null,
   "id": "fc07536f-76ce-406b-86ea-1c4c73fda81b",
   "metadata": {},
   "outputs": [],
   "source": [
    "import nltk\n",
    "from nltk import word_tokenize\n",
    "from nltk.util import ngrams\n",
    "from collections import Counter"
   ]
  },
  {
   "cell_type": "code",
   "execution_count": null,
   "id": "7546481b-cfbd-45ba-b455-6dfb95209dae",
   "metadata": {},
   "outputs": [],
   "source": [
    "# Read the content of the file\n",
    "with open('xxxx.txt', 'r') as file:\n",
    "    text = file.read()"
   ]
  },
  {
   "cell_type": "code",
   "execution_count": null,
   "id": "033fcc33-da4d-49fb-b276-2ea7c4365827",
   "metadata": {},
   "outputs": [],
   "source": [
    "# Tokenize the text into words\n",
    "tokens = word_tokenize(text)"
   ]
  },
  {
   "cell_type": "code",
   "execution_count": null,
   "id": "9963f3fb-71bd-4265-a264-20257d5d1146",
   "metadata": {},
   "outputs": [],
   "source": [
    "# Generate bigrams\n",
    "bigrams = list(ngrams(tokens, 2))"
   ]
  },
  {
   "cell_type": "code",
   "execution_count": null,
   "id": "2cf28fc9-d73d-435a-b15d-cdbc54947134",
   "metadata": {},
   "outputs": [],
   "source": [
    "# Count the frequency of each bigram\n",
    "bigram_freq = Counter(bigrams)"
   ]
  },
  {
   "cell_type": "code",
   "execution_count": null,
   "id": "cd8c1bb1-adfa-441e-acaf-94ca6cd97652",
   "metadata": {},
   "outputs": [],
   "source": [
    "# Get the 10 most common bigrams\n",
    "most_common_bigrams = bigram_freq.most_common(10)"
   ]
  },
  {
   "cell_type": "code",
   "execution_count": null,
   "id": "13906ed6-9152-48a7-bf54-053de808f95c",
   "metadata": {},
   "outputs": [],
   "source": [
    "# Print the 10 most common bigrams\n",
    "for bigram, freq in most_common_bigrams:\n",
    "    print(f'{bigram}: {freq}')                           "
   ]
  }
 ],
 "metadata": {
  "kernelspec": {
   "display_name": "Python 3 (ipykernel)",
   "language": "python",
   "name": "python3"
  },
  "language_info": {
   "codemirror_mode": {
    "name": "ipython",
    "version": 3
   },
   "file_extension": ".py",
   "mimetype": "text/x-python",
   "name": "python",
   "nbconvert_exporter": "python",
   "pygments_lexer": "ipython3",
   "version": "3.9.19"
  }
 },
 "nbformat": 4,
 "nbformat_minor": 5
}
